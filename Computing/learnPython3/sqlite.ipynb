{
 "cells": [
  {
   "cell_type": "code",
   "execution_count": 1,
   "metadata": {},
   "outputs": [],
   "source": [
    "import sqlite3\n",
    "import random\n",
    "import string"
   ]
  },
  {
   "cell_type": "markdown",
   "metadata": {},
   "source": [
    "### 练习1\n",
    "创建 university 数据库 \\\n",
    "创建students表  \\\n",
    "  至少包括 ID，姓名，性别，年龄等必要字段，并自己为这些字段选择合适的字段类型"
   ]
  },
  {
   "cell_type": "code",
   "execution_count": 2,
   "metadata": {},
   "outputs": [],
   "source": [
    "# 数据库文件是university.db，不存在，则自动创建\n",
    "with sqlite3.connect('university.db') as db:\n",
    "# 创建一个cursor：\n",
    "    cursor = db.cursor()\n",
    "\n",
    "# 执行一条SQL语句：创建students表\n",
    "cursor.execute('create table if not exists students( \\\n",
    "    id integer primary key, \\\n",
    "    name text not null, \\\n",
    "    gender text not null, \\\n",
    "    age intger not null, \\\n",
    "    major text not null)')\n",
    "db.commit()"
   ]
  },
  {
   "cell_type": "markdown",
   "metadata": {},
   "source": [
    "### 练习2\n",
    "增加和更新students 表的数据 \\\n",
    "至少有3名同学（周边）\n",
    "\n",
    "在university 数据库中建立class表 \\\n",
    "增加和更新表的数据\n",
    "\n",
    "至少有三门以上课程   \\\n",
    "提示，至少包括课号，课程名，教师。"
   ]
  },
  {
   "cell_type": "code",
   "execution_count": 3,
   "metadata": {},
   "outputs": [],
   "source": [
    "# 插入数据：\n",
    "genders = ['male', 'female']\n",
    "majors = ['Math', 'CS', 'Finance', 'Economics']\n",
    "\n",
    "for i in range(20):\n",
    "    name = ''.join(random.sample(string.ascii_lowercase, 5))\n",
    "    gender = genders[random.randint(0, 1)]\n",
    "    age = random.randint(12, 24)\n",
    "    major = majors[random.randint(0, 3)]\n",
    "    cursor.execute('insert into students (id, name,gender,age,major) \\\n",
    "        values ({},\"{}\",\"{}\",{},\"{}\")'.format(i+1, name, gender, age, major))\n",
    "db.commit()"
   ]
  },
  {
   "cell_type": "code",
   "execution_count": 4,
   "metadata": {},
   "outputs": [
    {
     "name": "stdout",
     "output_type": "stream",
     "text": [
      "---------------students--------------------\n",
      "(1, 'ehtur', 'male', 21, 'CS')\n",
      "(2, 'wtozr', 'male', 12, 'Finance')\n",
      "(3, 'lcrbp', 'female', 21, 'CS')\n",
      "(4, 'hvzlt', 'male', 21, 'Economics')\n",
      "(5, 'nlpug', 'male', 18, 'Finance')\n",
      "(6, 'qectd', 'male', 21, 'Math')\n",
      "(7, 'qfgxl', 'male', 20, 'Math')\n",
      "(8, 'ahfpv', 'female', 18, 'Economics')\n",
      "(9, 'yhkmf', 'male', 16, 'Finance')\n",
      "(10, 'xnrbz', 'female', 19, 'Math')\n",
      "(11, 'jcirq', 'female', 22, 'Math')\n",
      "(12, 'edalb', 'male', 12, 'Finance')\n",
      "(13, 'rakxn', 'male', 23, 'Economics')\n",
      "(14, 'japxz', 'male', 16, 'Math')\n",
      "(15, 'pmiot', 'female', 21, 'Economics')\n",
      "(16, 'npray', 'male', 12, 'Finance')\n",
      "(17, 'qfohp', 'female', 22, 'Finance')\n",
      "(18, 'uxdjn', 'female', 23, 'CS')\n",
      "(19, 'thclo', 'female', 16, 'CS')\n",
      "(20, 'ujosv', 'male', 16, 'Finance')\n"
     ]
    }
   ],
   "source": [
    "cursor.execute('select * from students')\n",
    "print('---------------students--------------------')\n",
    "for x in cursor.fetchall():\n",
    "    print(x)"
   ]
  },
  {
   "cell_type": "code",
   "execution_count": 5,
   "metadata": {},
   "outputs": [],
   "source": [
    "# 执行一条SQL语句：创建class表\n",
    "cursor.execute('create table if not exists class( \\\n",
    "    class_id integer primary key, \\\n",
    "    class_name text, \\\n",
    "    lecture text, \\\n",
    "    credit integer )')\n",
    "\n",
    "classes = ['Python', 'Java', 'C++', 'C', 'R', 'Go']\n",
    "lectures = ['Adam', 'Bob', 'Cyrus', 'Dan', 'Eric', 'Frank']\n",
    "Credits = [3, 2, 3, 2, 1, 1]\n",
    "for i in range(6):\n",
    "    cursor.execute('insert into class (class_id, class_name,lecture,credit) \\\n",
    "        values ({},\"{}\",\"{}\",{})'.format(i+1, classes[i], lectures[i], Credits[i]))\n",
    "db.commit()"
   ]
  },
  {
   "cell_type": "code",
   "execution_count": 6,
   "metadata": {},
   "outputs": [
    {
     "name": "stdout",
     "output_type": "stream",
     "text": [
      "---------------class--------------------\n",
      "(1, 'Python', 'Adam', 3)\n",
      "(2, 'Java', 'Bob', 2)\n",
      "(3, 'C++', 'Cyrus', 3)\n",
      "(4, 'C', 'Dan', 2)\n",
      "(5, 'R', 'Eric', 1)\n",
      "(6, 'Go', 'Frank', 1)\n"
     ]
    }
   ],
   "source": [
    "cursor.execute('select * from class')\n",
    "print('---------------class--------------------')\n",
    "for x in cursor.fetchall():\n",
    "    print(x)"
   ]
  },
  {
   "cell_type": "markdown",
   "metadata": {},
   "source": [
    "### 练习3\n",
    "在university 数据库中创建选课表enrolled表;\\\n",
    "至少包括：学生ID，选课的课号，考试分数   \\\n",
    "增加和更新表的数据\n"
   ]
  },
  {
   "cell_type": "code",
   "execution_count": 7,
   "metadata": {},
   "outputs": [],
   "source": [
    "# 执行一条SQL语句：创建enrolled表\n",
    "cursor.execute('create table if not exists enrolled( \\\n",
    "    student_id integer,  \\\n",
    "    class_id integer, \\\n",
    "    credit integer, \\\n",
    "    score integer, \\\n",
    "    primary key(student_id,class_id) )')\n",
    "\n",
    "for i in range(20):\n",
    "    student_id = i+1\n",
    "    for j in range(random.randint(1, 6)):\n",
    "        class_id = j+1\n",
    "        credit = Credits[j]\n",
    "        score = random.randint(0, 100)\n",
    "        cursor.execute('insert into enrolled (student_id,class_id, credit,score) \\\n",
    "            values ({},{},{},{})'.format(student_id, class_id, credit, score))\n",
    "db.commit()"
   ]
  },
  {
   "cell_type": "code",
   "execution_count": 8,
   "metadata": {},
   "outputs": [
    {
     "name": "stdout",
     "output_type": "stream",
     "text": [
      "---------------students--------------------\n",
      "(1, 1, 3, 68)\n",
      "(1, 2, 2, 2)\n",
      "(1, 3, 3, 76)\n",
      "(1, 4, 2, 86)\n",
      "(2, 1, 3, 58)\n",
      "(3, 1, 3, 48)\n",
      "(3, 2, 2, 0)\n",
      "(3, 3, 3, 47)\n",
      "(4, 1, 3, 2)\n",
      "(4, 2, 2, 62)\n",
      "(4, 3, 3, 67)\n",
      "(5, 1, 3, 6)\n",
      "(5, 2, 2, 76)\n",
      "(5, 3, 3, 9)\n",
      "(5, 4, 2, 52)\n",
      "(6, 1, 3, 39)\n",
      "(7, 1, 3, 91)\n",
      "(7, 2, 2, 87)\n",
      "(7, 3, 3, 96)\n",
      "(7, 4, 2, 98)\n",
      "(7, 5, 1, 96)\n",
      "(8, 1, 3, 95)\n",
      "(9, 1, 3, 30)\n",
      "(9, 2, 2, 56)\n",
      "(10, 1, 3, 13)\n",
      "(10, 2, 2, 44)\n",
      "(10, 3, 3, 1)\n",
      "(10, 4, 2, 48)\n",
      "(10, 5, 1, 34)\n",
      "(11, 1, 3, 76)\n",
      "(11, 2, 2, 8)\n",
      "(11, 3, 3, 73)\n",
      "(11, 4, 2, 88)\n",
      "(11, 5, 1, 17)\n",
      "(12, 1, 3, 5)\n",
      "(12, 2, 2, 27)\n",
      "(12, 3, 3, 40)\n",
      "(12, 4, 2, 40)\n",
      "(13, 1, 3, 42)\n",
      "(13, 2, 2, 30)\n",
      "(13, 3, 3, 93)\n",
      "(13, 4, 2, 44)\n",
      "(13, 5, 1, 47)\n",
      "(13, 6, 1, 46)\n",
      "(14, 1, 3, 42)\n",
      "(15, 1, 3, 31)\n",
      "(15, 2, 2, 59)\n",
      "(15, 3, 3, 10)\n",
      "(15, 4, 2, 60)\n",
      "(15, 5, 1, 67)\n",
      "(16, 1, 3, 78)\n",
      "(16, 2, 2, 99)\n",
      "(16, 3, 3, 38)\n",
      "(16, 4, 2, 37)\n",
      "(16, 5, 1, 7)\n",
      "(16, 6, 1, 26)\n",
      "(17, 1, 3, 44)\n",
      "(17, 2, 2, 45)\n",
      "(17, 3, 3, 44)\n",
      "(17, 4, 2, 61)\n",
      "(17, 5, 1, 81)\n",
      "(17, 6, 1, 82)\n",
      "(18, 1, 3, 92)\n",
      "(18, 2, 2, 74)\n",
      "(18, 3, 3, 2)\n",
      "(18, 4, 2, 61)\n",
      "(18, 5, 1, 15)\n",
      "(19, 1, 3, 58)\n",
      "(20, 1, 3, 52)\n",
      "(20, 2, 2, 90)\n",
      "(20, 3, 3, 52)\n",
      "(20, 4, 2, 29)\n",
      "(20, 5, 1, 68)\n"
     ]
    }
   ],
   "source": [
    "cursor.execute('select * from enrolled')\n",
    "print('---------------students--------------------')\n",
    "for x in cursor.fetchall():\n",
    "    print(x)"
   ]
  },
  {
   "cell_type": "markdown",
   "metadata": {},
   "source": [
    "### 练习4\n",
    "\n",
    "使用 INNER JOIN 查询学生的个人信息和每个课程的分数。"
   ]
  },
  {
   "cell_type": "code",
   "execution_count": 9,
   "metadata": {},
   "outputs": [
    {
     "name": "stdout",
     "output_type": "stream",
     "text": [
      "---------------inner join--------------------\n",
      "(1, 'ehtur', 'male', 21, 'CS', 'Python', 3, 68)\n",
      "(1, 'ehtur', 'male', 21, 'CS', 'Java', 2, 2)\n",
      "(1, 'ehtur', 'male', 21, 'CS', 'C++', 3, 76)\n",
      "(1, 'ehtur', 'male', 21, 'CS', 'C', 2, 86)\n",
      "(2, 'wtozr', 'male', 12, 'Finance', 'Python', 3, 58)\n",
      "(3, 'lcrbp', 'female', 21, 'CS', 'Python', 3, 48)\n",
      "(3, 'lcrbp', 'female', 21, 'CS', 'Java', 2, 0)\n",
      "(3, 'lcrbp', 'female', 21, 'CS', 'C++', 3, 47)\n",
      "(4, 'hvzlt', 'male', 21, 'Economics', 'Python', 3, 2)\n",
      "(4, 'hvzlt', 'male', 21, 'Economics', 'Java', 2, 62)\n",
      "(4, 'hvzlt', 'male', 21, 'Economics', 'C++', 3, 67)\n",
      "(5, 'nlpug', 'male', 18, 'Finance', 'Python', 3, 6)\n",
      "(5, 'nlpug', 'male', 18, 'Finance', 'Java', 2, 76)\n",
      "(5, 'nlpug', 'male', 18, 'Finance', 'C++', 3, 9)\n",
      "(5, 'nlpug', 'male', 18, 'Finance', 'C', 2, 52)\n",
      "(6, 'qectd', 'male', 21, 'Math', 'Python', 3, 39)\n",
      "(7, 'qfgxl', 'male', 20, 'Math', 'Python', 3, 91)\n",
      "(7, 'qfgxl', 'male', 20, 'Math', 'Java', 2, 87)\n",
      "(7, 'qfgxl', 'male', 20, 'Math', 'C++', 3, 96)\n",
      "(7, 'qfgxl', 'male', 20, 'Math', 'C', 2, 98)\n",
      "(7, 'qfgxl', 'male', 20, 'Math', 'R', 1, 96)\n",
      "(8, 'ahfpv', 'female', 18, 'Economics', 'Python', 3, 95)\n",
      "(9, 'yhkmf', 'male', 16, 'Finance', 'Python', 3, 30)\n",
      "(9, 'yhkmf', 'male', 16, 'Finance', 'Java', 2, 56)\n",
      "(10, 'xnrbz', 'female', 19, 'Math', 'Python', 3, 13)\n",
      "(10, 'xnrbz', 'female', 19, 'Math', 'Java', 2, 44)\n",
      "(10, 'xnrbz', 'female', 19, 'Math', 'C++', 3, 1)\n",
      "(10, 'xnrbz', 'female', 19, 'Math', 'C', 2, 48)\n",
      "(10, 'xnrbz', 'female', 19, 'Math', 'R', 1, 34)\n",
      "(11, 'jcirq', 'female', 22, 'Math', 'Python', 3, 76)\n",
      "(11, 'jcirq', 'female', 22, 'Math', 'Java', 2, 8)\n",
      "(11, 'jcirq', 'female', 22, 'Math', 'C++', 3, 73)\n",
      "(11, 'jcirq', 'female', 22, 'Math', 'C', 2, 88)\n",
      "(11, 'jcirq', 'female', 22, 'Math', 'R', 1, 17)\n",
      "(12, 'edalb', 'male', 12, 'Finance', 'Python', 3, 5)\n",
      "(12, 'edalb', 'male', 12, 'Finance', 'Java', 2, 27)\n",
      "(12, 'edalb', 'male', 12, 'Finance', 'C++', 3, 40)\n",
      "(12, 'edalb', 'male', 12, 'Finance', 'C', 2, 40)\n",
      "(13, 'rakxn', 'male', 23, 'Economics', 'Python', 3, 42)\n",
      "(13, 'rakxn', 'male', 23, 'Economics', 'Java', 2, 30)\n",
      "(13, 'rakxn', 'male', 23, 'Economics', 'C++', 3, 93)\n",
      "(13, 'rakxn', 'male', 23, 'Economics', 'C', 2, 44)\n",
      "(13, 'rakxn', 'male', 23, 'Economics', 'R', 1, 47)\n",
      "(13, 'rakxn', 'male', 23, 'Economics', 'Go', 1, 46)\n",
      "(14, 'japxz', 'male', 16, 'Math', 'Python', 3, 42)\n",
      "(15, 'pmiot', 'female', 21, 'Economics', 'Python', 3, 31)\n",
      "(15, 'pmiot', 'female', 21, 'Economics', 'Java', 2, 59)\n",
      "(15, 'pmiot', 'female', 21, 'Economics', 'C++', 3, 10)\n",
      "(15, 'pmiot', 'female', 21, 'Economics', 'C', 2, 60)\n",
      "(15, 'pmiot', 'female', 21, 'Economics', 'R', 1, 67)\n",
      "(16, 'npray', 'male', 12, 'Finance', 'Python', 3, 78)\n",
      "(16, 'npray', 'male', 12, 'Finance', 'Java', 2, 99)\n",
      "(16, 'npray', 'male', 12, 'Finance', 'C++', 3, 38)\n",
      "(16, 'npray', 'male', 12, 'Finance', 'C', 2, 37)\n",
      "(16, 'npray', 'male', 12, 'Finance', 'R', 1, 7)\n",
      "(16, 'npray', 'male', 12, 'Finance', 'Go', 1, 26)\n",
      "(17, 'qfohp', 'female', 22, 'Finance', 'Python', 3, 44)\n",
      "(17, 'qfohp', 'female', 22, 'Finance', 'Java', 2, 45)\n",
      "(17, 'qfohp', 'female', 22, 'Finance', 'C++', 3, 44)\n",
      "(17, 'qfohp', 'female', 22, 'Finance', 'C', 2, 61)\n",
      "(17, 'qfohp', 'female', 22, 'Finance', 'R', 1, 81)\n",
      "(17, 'qfohp', 'female', 22, 'Finance', 'Go', 1, 82)\n",
      "(18, 'uxdjn', 'female', 23, 'CS', 'Python', 3, 92)\n",
      "(18, 'uxdjn', 'female', 23, 'CS', 'Java', 2, 74)\n",
      "(18, 'uxdjn', 'female', 23, 'CS', 'C++', 3, 2)\n",
      "(18, 'uxdjn', 'female', 23, 'CS', 'C', 2, 61)\n",
      "(18, 'uxdjn', 'female', 23, 'CS', 'R', 1, 15)\n",
      "(19, 'thclo', 'female', 16, 'CS', 'Python', 3, 58)\n",
      "(20, 'ujosv', 'male', 16, 'Finance', 'Python', 3, 52)\n",
      "(20, 'ujosv', 'male', 16, 'Finance', 'Java', 2, 90)\n",
      "(20, 'ujosv', 'male', 16, 'Finance', 'C++', 3, 52)\n",
      "(20, 'ujosv', 'male', 16, 'Finance', 'C', 2, 29)\n",
      "(20, 'ujosv', 'male', 16, 'Finance', 'R', 1, 68)\n"
     ]
    }
   ],
   "source": [
    "# 查询学生的个人信息及分数\n",
    "cursor.execute('select id,name,gender,age,major,class_name,credit,score \\\n",
    "                from students s inner join\\\n",
    "                    (select student_id,class_name,c.credit,score from class c \n",
    "                        inner join enrolled e on c.class_id = e.class_id)tc \\\n",
    "                on s.id =tc.student_id')\n",
    "print('---------------inner join--------------------')\n",
    "for x in cursor.fetchall():\n",
    "    print(x)"
   ]
  },
  {
   "cell_type": "markdown",
   "metadata": {},
   "source": [
    "创建视图备练习5使用"
   ]
  },
  {
   "cell_type": "code",
   "execution_count": 10,
   "metadata": {},
   "outputs": [],
   "source": [
    "#创建视图以便查询\n",
    "cursor.execute('create view score as \\\n",
    "    select id,name,class_name,credit,score            \\\n",
    "    from students s inner join\\\n",
    "    (select student_id,class_name,c.credit,score from class c inner join enrolled e on c.class_id = e.class_id)tc \\\n",
    "    on s.id =tc.student_id')\n",
    "db.commit()"
   ]
  },
  {
   "cell_type": "code",
   "execution_count": 11,
   "metadata": {},
   "outputs": [],
   "source": [
    "# 关闭Cursor:\n",
    "cursor.close()\n",
    "# 关闭connection：\n",
    "db.close()"
   ]
  },
  {
   "cell_type": "markdown",
   "metadata": {},
   "source": [
    "### 练习5\n",
    "结合Tkinter，做一个成绩查询的SQLite系统 \\\n",
    "提示：  \\\n",
    "创建一个查询按钮，查询所有students表\n"
   ]
  },
  {
   "cell_type": "markdown",
   "metadata": {},
   "source": [
    "## test_tkinter.py\n",
    "   简单的成绩查询界面"
   ]
  },
  {
   "cell_type": "code",
   "execution_count": 12,
   "metadata": {},
   "outputs": [
    {
     "name": "stdout",
     "output_type": "stream",
     "text": [
      "\n"
     ]
    }
   ],
   "source": [
    "from tkinter import *\n",
    "from tkinter import ttk\n",
    "from tkinter import messagebox\n",
    "import sqlite3\n",
    "def query():\n",
    "    id=in_id.get()\n",
    "    name=in_name.get()\n",
    "    course=in_co.get()\n",
    "    #清空treeview\n",
    "    items=tree.get_children()\n",
    "    for item in items:\n",
    "        tree.delete(item)\n",
    "    #查询条件\n",
    "    q_id = ''if id=='' else 'id='+id\n",
    "    q_name = '' if name=='' else 'name=\"{}\"'.format(name)\n",
    "    q1 = ' and ' if (q_id!='' and q_name!='') else ''\n",
    "    q_course = '' if course=='' else 'class_name=\"{}\"'.format(course)\n",
    "    q2 = ' and ' if ((q_id+q_name)!='' and q_course!='') else ''\n",
    "    q = q_id+q1+q_name+q2+q_course\n",
    "    q = q if q=='' else ' where '+q\n",
    "    print(q)\n",
    "    #执行查询,插入结果到表格\n",
    "    cursor.execute('select * from score'+q)\n",
    "    count=0  \n",
    "    for item in cursor.fetchall():\n",
    "        tree.insert('','end',values=item)\n",
    "        count+=1\n",
    "    if count==0:\n",
    "        messagebox.showinfo('提醒','未查询到相关结果')\n",
    "\n",
    "# 数据库文件是university.db，不存在，则自动创建\n",
    "with sqlite3.connect('university.db') as db:\n",
    "# 创建一个cursor：\n",
    "    cursor = db.cursor()\n",
    "\n",
    "# 创建主窗口对象\n",
    "root = Tk()\n",
    "# 设置初始化界面大小\n",
    "root.geometry('600x400')\n",
    "root.resizable(False, False)\n",
    "# 窗口标题\n",
    "root.title(\"成绩查询系统\")\n",
    "\n",
    "frame1 = Frame(root)\n",
    "frame2 = Frame(root)\n",
    " \n",
    "frame1.pack(side='top',ipady=10)\n",
    "frame2.pack()\n",
    "\n",
    "lb_id=Label(frame1,text='学号').pack(side='left')\n",
    "in_id=Entry(frame1,width=10)\n",
    "in_id.pack(side='left',padx=10)\n",
    "lb_name=Label(frame1,text='姓名').pack(side='left')\n",
    "in_name=Entry(frame1,width=10)\n",
    "in_name.pack(side='left',padx=10)\n",
    "lb_co=Label(frame1,text='课程').pack(side='left')\n",
    "in_co=Entry(frame1,width=10)\n",
    "in_co.pack(side='left',padx=10)\n",
    "\n",
    "bt_query = Button(frame1,text = '查询',command = query)\n",
    "bt_query.pack(side='right',padx=10)\n",
    "\n",
    "tree=ttk.Treeview(frame2,show=\"headings\")   #表格\n",
    "tree['columns']=('学号','姓名','课程','学分','成绩')\n",
    "tree.column('学号',width=100,anchor='center')   #表示列,不显示\n",
    "tree.column('姓名',width=80,anchor='center')\n",
    "tree.column('课程',width=100,anchor='center')\n",
    "tree.column('学分',width=50,anchor='center') \n",
    "tree.column('成绩',width=80,anchor='center')\n",
    "\n",
    "tree.heading('学号',text='学号')  #显示表头\n",
    "tree.heading('姓名',text='姓名')\n",
    "tree.heading('课程',text='课程')\n",
    "tree.heading('学分',text='学分')\n",
    "tree.heading('成绩',text='成绩')\n",
    "\n",
    "#滚动条\n",
    "vbar = ttk.Scrollbar(frame2,orient=VERTICAL,command=tree.yview)\n",
    "tree.configure(yscrollcommand=vbar.set)\n",
    "vbar.pack(side='right',fill='y')\n",
    "\n",
    "hbar = ttk.Scrollbar(frame2,orient=HORIZONTAL,command=tree.xview)\n",
    "tree.configure(xscrollcommand=hbar.set)\n",
    "hbar.pack(side='bottom',fill='x')\n",
    "tree.pack()\n",
    "\n",
    "#关闭窗口时断开数据库\n",
    "def on_closing():\n",
    "    # 关闭Cursor:\n",
    "    cursor.close()\n",
    "    # 关闭connection：\n",
    "    db.close() \n",
    "    root.destroy()\n",
    "\n",
    "root.protocol(\"WM_DELETE_WINDOW\", on_closing)\n",
    "\n",
    "# 加入消息循环\n",
    "root.mainloop()"
   ]
  },
  {
   "cell_type": "code",
   "execution_count": null,
   "metadata": {},
   "outputs": [],
   "source": []
  }
 ],
 "metadata": {
  "kernelspec": {
   "display_name": "Python 3",
   "language": "python",
   "name": "python3"
  },
  "language_info": {
   "codemirror_mode": {
    "name": "ipython",
    "version": 3
   },
   "file_extension": ".py",
   "mimetype": "text/x-python",
   "name": "python",
   "nbconvert_exporter": "python",
   "pygments_lexer": "ipython3",
   "version": "3.7.9"
  }
 },
 "nbformat": 4,
 "nbformat_minor": 4
}
